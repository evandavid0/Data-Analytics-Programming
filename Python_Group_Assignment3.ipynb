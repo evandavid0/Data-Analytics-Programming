{
 "cells": [
  {
   "cell_type": "markdown",
   "metadata": {},
   "source": [
    "# Data Analytics Programming Assignment 3"
   ]
  },
  {
   "cell_type": "code",
   "execution_count": 1,
   "metadata": {},
   "outputs": [
    {
     "name": "stdout",
     "output_type": "stream",
     "text": [
      "Populating the interactive namespace from numpy and matplotlib\n"
     ]
    }
   ],
   "source": [
    "from pandas import Series, DataFrame\n",
    "import pandas as pd\n",
    "import statsmodels.api as sm\n",
    "from patsy import dmatrices\n",
    "%pylab inline"
   ]
  },
  {
   "cell_type": "markdown",
   "metadata": {},
   "source": [
    "<b>[Q1] Read in data</b>"
   ]
  },
  {
   "cell_type": "code",
   "execution_count": 2,
   "metadata": {},
   "outputs": [],
   "source": [
    "# read in the gold file\n",
    "gold = pd.read_csv('gold.txt',\n",
    "                    sep = '\\s+',\n",
    "                    header = None,\n",
    "                    names = ['url', 'category'])\n",
    "\n",
    "# read in the labels file\n",
    "labels = pd.read_csv('labels.txt',\n",
    "                      sep = '\\s+',\n",
    "                      header = None,\n",
    "                      names = ['turk', 'url', 'category'])"
   ]
  },
  {
   "cell_type": "markdown",
   "metadata": {},
   "source": [
    "<b>[Q2] Split into two DataFrames</b>"
   ]
  },
  {
   "cell_type": "code",
   "execution_count": 3,
   "metadata": {},
   "outputs": [],
   "source": [
    "# get a df with the matching url's from gold\n",
    "labels_on_gold = labels[labels['url'].isin(gold['url'])]\n",
    "\n",
    "# this has the url's not in gold\n",
    "labels_unknown = labels[~labels['url'].isin(gold['url'])]"
   ]
  },
  {
   "cell_type": "markdown",
   "metadata": {},
   "source": [
    "<b>[Q3] Compute accuracies of turks</b>"
   ]
  },
  {
   "cell_type": "code",
   "execution_count": 4,
   "metadata": {},
   "outputs": [],
   "source": [
    "# set up a merge with same url's\n",
    "rater_good = labels_on_gold.merge(gold, \n",
    "                                  left_on = 'url',\n",
    "                                  right_on = 'url').set_index('turk')\n",
    "\n",
    "# get the correctness\n",
    "correctness = (rater_good[rater_good['category_x'] == rater_good['category_y']].groupby('turk')['url'].count() / rater_good.groupby('turk')['url'].count()).fillna(0)\n",
    "\n",
    "# get the total ratings count\n",
    "total_ratings = rater_good.groupby('turk')['url'].count()\n",
    "\n",
    "# put these two series into one data frame\n",
    "rater_goodness = pd.concat([total_ratings, correctness], axis=1)\n",
    "rater_goodness.columns=['total_ratings', 'correctness']"
   ]
  },
  {
   "cell_type": "markdown",
   "metadata": {},
   "source": [
    "<b>[Q4] Odds ratios</b>"
   ]
  },
  {
   "cell_type": "code",
   "execution_count": 5,
   "metadata": {},
   "outputs": [],
   "source": [
    "def odds(p):\n",
    "    \"\"\"This function computes the odds of success given fraction p\"\"\"\n",
    "    return p / (1.001 - p)\n",
    "\n",
    "# map the odds function from the correctness ratings\n",
    "rater_goodness['odds'] = rater_goodness['correctness'].map(odds)"
   ]
  },
  {
   "cell_type": "markdown",
   "metadata": {},
   "source": [
    "<b>[Q5] Most accurate turks</b>"
   ]
  },
  {
   "cell_type": "code",
   "execution_count": 6,
   "metadata": {},
   "outputs": [
    {
     "data": {
      "text/html": [
       "<div>\n",
       "<style scoped>\n",
       "    .dataframe tbody tr th:only-of-type {\n",
       "        vertical-align: middle;\n",
       "    }\n",
       "\n",
       "    .dataframe tbody tr th {\n",
       "        vertical-align: top;\n",
       "    }\n",
       "\n",
       "    .dataframe thead th {\n",
       "        text-align: right;\n",
       "    }\n",
       "</style>\n",
       "<table border=\"1\" class=\"dataframe\">\n",
       "  <thead>\n",
       "    <tr style=\"text-align: right;\">\n",
       "      <th></th>\n",
       "      <th>total_ratings</th>\n",
       "      <th>correctness</th>\n",
       "      <th>odds</th>\n",
       "    </tr>\n",
       "    <tr>\n",
       "      <th>turk</th>\n",
       "      <th></th>\n",
       "      <th></th>\n",
       "      <th></th>\n",
       "    </tr>\n",
       "  </thead>\n",
       "  <tbody>\n",
       "    <tr>\n",
       "      <th>A2U0R4X38GUKZE</th>\n",
       "      <td>20</td>\n",
       "      <td>0.950000</td>\n",
       "      <td>18.627451</td>\n",
       "    </tr>\n",
       "    <tr>\n",
       "      <th>A22C0PJUBFJTI0</th>\n",
       "      <td>36</td>\n",
       "      <td>0.916667</td>\n",
       "      <td>10.869565</td>\n",
       "    </tr>\n",
       "    <tr>\n",
       "      <th>A23YQUBXZPKILZ</th>\n",
       "      <td>24</td>\n",
       "      <td>0.875000</td>\n",
       "      <td>6.944444</td>\n",
       "    </tr>\n",
       "    <tr>\n",
       "      <th>ATVALOQVDCMZW</th>\n",
       "      <td>103</td>\n",
       "      <td>0.854369</td>\n",
       "      <td>5.826657</td>\n",
       "    </tr>\n",
       "    <tr>\n",
       "      <th>A1HIXWH4OXT8S4</th>\n",
       "      <td>40</td>\n",
       "      <td>0.825000</td>\n",
       "      <td>4.687500</td>\n",
       "    </tr>\n",
       "    <tr>\n",
       "      <th>A3220HG1O83HQ4</th>\n",
       "      <td>22</td>\n",
       "      <td>0.818182</td>\n",
       "      <td>4.475385</td>\n",
       "    </tr>\n",
       "    <tr>\n",
       "      <th>A32W20KGQXS0LL</th>\n",
       "      <td>25</td>\n",
       "      <td>0.800000</td>\n",
       "      <td>3.980100</td>\n",
       "    </tr>\n",
       "    <tr>\n",
       "      <th>A20PWAB7G3HDHU</th>\n",
       "      <td>20</td>\n",
       "      <td>0.800000</td>\n",
       "      <td>3.980100</td>\n",
       "    </tr>\n",
       "    <tr>\n",
       "      <th>AJSJVK40F5HM6</th>\n",
       "      <td>28</td>\n",
       "      <td>0.785714</td>\n",
       "      <td>3.649635</td>\n",
       "    </tr>\n",
       "    <tr>\n",
       "      <th>A31OCN4MNHUQ6W</th>\n",
       "      <td>184</td>\n",
       "      <td>0.777174</td>\n",
       "      <td>3.472222</td>\n",
       "    </tr>\n",
       "  </tbody>\n",
       "</table>\n",
       "</div>"
      ],
      "text/plain": [
       "                total_ratings  correctness       odds\n",
       "turk                                                 \n",
       "A2U0R4X38GUKZE             20     0.950000  18.627451\n",
       "A22C0PJUBFJTI0             36     0.916667  10.869565\n",
       "A23YQUBXZPKILZ             24     0.875000   6.944444\n",
       "ATVALOQVDCMZW             103     0.854369   5.826657\n",
       "A1HIXWH4OXT8S4             40     0.825000   4.687500\n",
       "A3220HG1O83HQ4             22     0.818182   4.475385\n",
       "A32W20KGQXS0LL             25     0.800000   3.980100\n",
       "A20PWAB7G3HDHU             20     0.800000   3.980100\n",
       "AJSJVK40F5HM6              28     0.785714   3.649635\n",
       "A31OCN4MNHUQ6W            184     0.777174   3.472222"
      ]
     },
     "execution_count": 6,
     "metadata": {},
     "output_type": "execute_result"
    }
   ],
   "source": [
    "# get the most accurate turks, by correctness ratings, applying a mask for those rating at least 20 url's\n",
    "top10_turks = rater_goodness[rater_goodness['total_ratings'] >= 20].sort_values(by='correctness', ascending=False)[:10]\n",
    "top10_turks"
   ]
  },
  {
   "cell_type": "markdown",
   "metadata": {},
   "source": [
    "<b>[Q6] Rating counts versus accuracy</b>"
   ]
  },
  {
   "cell_type": "code",
   "execution_count": 7,
   "metadata": {},
   "outputs": [
    {
     "data": {
      "text/plain": [
       "<matplotlib.axes._subplots.AxesSubplot at 0xc9cb7f0>"
      ]
     },
     "execution_count": 7,
     "metadata": {},
     "output_type": "execute_result"
    },
    {
     "data": {
      "image/png": "[encoded data removed]",
      "text/plain": [
       "<Figure size 432x288 with 1 Axes>"
      ]
     },
     "metadata": {},
     "output_type": "display_data"
    }
   ],
   "source": [
    "# plotting the counts versus accuracy\n",
    "rater_goodness.sort_values(by='correctness', ascending=False).plot.scatter('total_ratings', \n",
    "                                                                           'correctness', \n",
    "                                                                           title='Counts vs Accuracy')"
   ]
  },
  {
   "cell_type": "markdown",
   "metadata": {},
   "source": [
    "Based on this scatter plot, there seems to be no linear relationship between ratings count and the accuracy of a turk, in fact there is more of a distribution of accuracies, and having more ratings does not mean a turk will have higher accuracy. I will run a simple linear regression to further explore this relationship:"
   ]
  },
  {
   "cell_type": "code",
   "execution_count": 8,
   "metadata": {},
   "outputs": [
    {
     "name": "stdout",
     "output_type": "stream",
     "text": [
      "                            OLS Regression Results                            \n",
      "==============================================================================\n",
      "Dep. Variable:            correctness   R-squared:                       0.002\n",
      "Model:                            OLS   Adj. R-squared:                 -0.002\n",
      "Method:                 Least Squares   F-statistic:                    0.5488\n",
      "Date:                Wed, 08 Aug 2018   Prob (F-statistic):              0.459\n",
      "Time:                        15:30:27   Log-Likelihood:                -94.663\n",
      "No. Observations:                 269   AIC:                             193.3\n",
      "Df Residuals:                     267   BIC:                             200.5\n",
      "Df Model:                           1                                         \n",
      "Covariance Type:            nonrobust                                         \n",
      "=================================================================================\n",
      "                    coef    std err          t      P>|t|      [0.025      0.975]\n",
      "---------------------------------------------------------------------------------\n",
      "Intercept         0.6431      0.024     27.071      0.000       0.596       0.690\n",
      "total_ratings     0.0007      0.001      0.741      0.459      -0.001       0.002\n",
      "==============================================================================\n",
      "Omnibus:                       29.253   Durbin-Watson:                   2.072\n",
      "Prob(Omnibus):                  0.000   Jarque-Bera (JB):               28.396\n",
      "Skew:                          -0.731   Prob(JB):                     6.82e-07\n",
      "Kurtosis:                       2.373   Cond. No.                         30.1\n",
      "==============================================================================\n",
      "\n",
      "Warnings:\n",
      "[1] Standard Errors assume that the covariance matrix of the errors is correctly specified.\n"
     ]
    }
   ],
   "source": [
    "# create the design matrices\n",
    "y, X = dmatrices('correctness ~ total_ratings', data=rater_goodness, return_type='dataframe')\n",
    "\n",
    "# set up the model\n",
    "model = sm.OLS(y, X)      \n",
    "\n",
    "# fit the model and print the summary statistics\n",
    "result = model.fit()       \n",
    "print result.summary()"
   ]
  },
  {
   "cell_type": "markdown",
   "metadata": {},
   "source": [
    "From this output it is easy to conclude that there is no relationship between ratings count and the average correctness of a turk. The R-squared values are extremely low, and p-values are high, indicating there is no statistical significance between these variables, and thus the variables are not related."
   ]
  },
  {
   "cell_type": "markdown",
   "metadata": {},
   "source": [
    "<b>[Q7] Overall predicted odds</b>"
   ]
  },
  {
   "cell_type": "code",
   "execution_count": 9,
   "metadata": {},
   "outputs": [
    {
     "data": {
      "text/plain": [
       "total_ratings      11.0\n",
       "correctness         1.0\n",
       "odds             1000.0\n",
       "Name: 0.75, dtype: float64"
      ]
     },
     "execution_count": 9,
     "metadata": {},
     "output_type": "execute_result"
    }
   ],
   "source": [
    "# get the cutoff for these turks who rated more than 75% of all turks\n",
    "rater_goodness.quantile(0.75)"
   ]
  },
  {
   "cell_type": "markdown",
   "metadata": {},
   "source": [
    "So we will consider all turks who rated more than 11 URLs."
   ]
  },
  {
   "cell_type": "code",
   "execution_count": 10,
   "metadata": {},
   "outputs": [
    {
     "data": {
      "text/plain": [
       "url                                                       category\n",
       "http://0-101.net                                          G            2.155963\n",
       "http://000.cc                                             G            1.460583\n",
       "http://0000.jp                                            G           14.488244\n",
       "http://000relationships.com                               G            5.681060\n",
       "                                                          P            1.851852\n",
       "http://000vitamins.com                                    G            3.784982\n",
       "http://000webhost.com                                     G           11.159502\n",
       "http://003my.com                                          G            4.912040\n",
       "http://007absolutehardcore.com/early_cumshots/index.html  P            3.346522\n",
       "                                                          R           12.290450\n",
       "Name: overall_odds, dtype: float64"
      ]
     },
     "execution_count": 10,
     "metadata": {},
     "output_type": "execute_result"
    }
   ],
   "source": [
    "# get the turks who rated more than 11 url's, or the top 25% of turks by total ratings\n",
    "top25 = rater_goodness[rater_goodness['total_ratings'] > 11.0]\n",
    "\n",
    "# set up new data frame with (u,c) pair from url's not in gold set, with just the selected turks\n",
    "predicted = labels_unknown.merge(top25, \n",
    "                                 left_on='turk',\n",
    "                                 right_on='turk').set_index('turk')\n",
    "\n",
    "# put their odds in a new overall odds column\n",
    "predicted['overall_odds'] = top25['odds']\n",
    "\n",
    "# get the products of odds\n",
    "products = predicted.groupby(['url', 'category'])['overall_odds'].prod()\n",
    "products[:10]"
   ]
  },
  {
   "cell_type": "markdown",
   "metadata": {},
   "source": [
    "<b>[Q8] Predicted categories</b>"
   ]
  },
  {
   "cell_type": "code",
   "execution_count": 11,
   "metadata": {},
   "outputs": [
    {
     "data": {
      "text/html": [
       "<div>\n",
       "<style scoped>\n",
       "    .dataframe tbody tr th:only-of-type {\n",
       "        vertical-align: middle;\n",
       "    }\n",
       "\n",
       "    .dataframe tbody tr th {\n",
       "        vertical-align: top;\n",
       "    }\n",
       "\n",
       "    .dataframe thead th {\n",
       "        text-align: right;\n",
       "    }\n",
       "</style>\n",
       "<table border=\"1\" class=\"dataframe\">\n",
       "  <thead>\n",
       "    <tr style=\"text-align: right;\">\n",
       "      <th></th>\n",
       "      <th>top_category</th>\n",
       "      <th>top_odds</th>\n",
       "    </tr>\n",
       "    <tr>\n",
       "      <th>url</th>\n",
       "      <th></th>\n",
       "      <th></th>\n",
       "    </tr>\n",
       "  </thead>\n",
       "  <tbody>\n",
       "    <tr>\n",
       "      <th>http://0-101.net</th>\n",
       "      <td>G</td>\n",
       "      <td>2.155963</td>\n",
       "    </tr>\n",
       "    <tr>\n",
       "      <th>http://000.cc</th>\n",
       "      <td>G</td>\n",
       "      <td>1.460583</td>\n",
       "    </tr>\n",
       "    <tr>\n",
       "      <th>http://0000.jp</th>\n",
       "      <td>G</td>\n",
       "      <td>14.488244</td>\n",
       "    </tr>\n",
       "    <tr>\n",
       "      <th>http://000relationships.com</th>\n",
       "      <td>G</td>\n",
       "      <td>5.681060</td>\n",
       "    </tr>\n",
       "    <tr>\n",
       "      <th>http://000vitamins.com</th>\n",
       "      <td>G</td>\n",
       "      <td>3.784982</td>\n",
       "    </tr>\n",
       "    <tr>\n",
       "      <th>http://000webhost.com</th>\n",
       "      <td>G</td>\n",
       "      <td>11.159502</td>\n",
       "    </tr>\n",
       "    <tr>\n",
       "      <th>http://003my.com</th>\n",
       "      <td>G</td>\n",
       "      <td>4.912040</td>\n",
       "    </tr>\n",
       "    <tr>\n",
       "      <th>http://007absolutehardcore.com/early_cumshots/index.html</th>\n",
       "      <td>X</td>\n",
       "      <td>293.252871</td>\n",
       "    </tr>\n",
       "    <tr>\n",
       "      <th>http://007swz.cn</th>\n",
       "      <td>G</td>\n",
       "      <td>1.393883</td>\n",
       "    </tr>\n",
       "    <tr>\n",
       "      <th>http://01768.com</th>\n",
       "      <td>G</td>\n",
       "      <td>1.393883</td>\n",
       "    </tr>\n",
       "  </tbody>\n",
       "</table>\n",
       "</div>"
      ],
      "text/plain": [
       "                                                   top_category    top_odds\n",
       "url                                                                        \n",
       "http://0-101.net                                              G    2.155963\n",
       "http://000.cc                                                 G    1.460583\n",
       "http://0000.jp                                                G   14.488244\n",
       "http://000relationships.com                                   G    5.681060\n",
       "http://000vitamins.com                                        G    3.784982\n",
       "http://000webhost.com                                         G   11.159502\n",
       "http://003my.com                                              G    4.912040\n",
       "http://007absolutehardcore.com/early_cumshots/i...            X  293.252871\n",
       "http://007swz.cn                                              G    1.393883\n",
       "http://01768.com                                              G    1.393883"
      ]
     },
     "execution_count": 11,
     "metadata": {},
     "output_type": "execute_result"
    }
   ],
   "source": [
    "# unstack to get the products of odds by category\n",
    "by_cat = products.unstack('category').fillna(0)\n",
    "\n",
    "# get top odds for each category\n",
    "by_cat['top_odds'] = by_cat.max(axis=1)\n",
    "\n",
    "# get the category for these top odds\n",
    "by_cat['top_category'] = by_cat.idxmax(axis=1)\n",
    "\n",
    "# get the predictions data frame\n",
    "result_75 = pd.concat([by_cat['top_category'], by_cat['top_odds']], axis=1)\n",
    "result_75[:10]"
   ]
  },
  {
   "cell_type": "markdown",
   "metadata": {},
   "source": [
    "<b>[Q9] Predicted categories using more\n",
    "turks</b>"
   ]
  },
  {
   "cell_type": "code",
   "execution_count": 12,
   "metadata": {},
   "outputs": [
    {
     "data": {
      "text/plain": [
       "total_ratings    1.000000\n",
       "correctness      0.500000\n",
       "odds             0.998004\n",
       "Name: 0.25, dtype: float64"
      ]
     },
     "execution_count": 12,
     "metadata": {},
     "output_type": "execute_result"
    }
   ],
   "source": [
    "# get the cutoff for the top 75% of turks\n",
    "rater_goodness.quantile(0.25)"
   ]
  },
  {
   "cell_type": "markdown",
   "metadata": {},
   "source": [
    "So now we will consider turks who rated more than 1 URL."
   ]
  },
  {
   "cell_type": "code",
   "execution_count": 13,
   "metadata": {},
   "outputs": [
    {
     "data": {
      "text/html": [
       "<div>\n",
       "<style scoped>\n",
       "    .dataframe tbody tr th:only-of-type {\n",
       "        vertical-align: middle;\n",
       "    }\n",
       "\n",
       "    .dataframe tbody tr th {\n",
       "        vertical-align: top;\n",
       "    }\n",
       "\n",
       "    .dataframe thead th {\n",
       "        text-align: right;\n",
       "    }\n",
       "</style>\n",
       "<table border=\"1\" class=\"dataframe\">\n",
       "  <thead>\n",
       "    <tr style=\"text-align: right;\">\n",
       "      <th>top_category_25</th>\n",
       "      <th>G</th>\n",
       "      <th>P</th>\n",
       "      <th>R</th>\n",
       "      <th>X</th>\n",
       "    </tr>\n",
       "    <tr>\n",
       "      <th>top_category_75</th>\n",
       "      <th></th>\n",
       "      <th></th>\n",
       "      <th></th>\n",
       "      <th></th>\n",
       "    </tr>\n",
       "  </thead>\n",
       "  <tbody>\n",
       "    <tr>\n",
       "      <th>G</th>\n",
       "      <td>8327</td>\n",
       "      <td>574</td>\n",
       "      <td>186</td>\n",
       "      <td>216</td>\n",
       "    </tr>\n",
       "    <tr>\n",
       "      <th>P</th>\n",
       "      <td>189</td>\n",
       "      <td>328</td>\n",
       "      <td>47</td>\n",
       "      <td>19</td>\n",
       "    </tr>\n",
       "    <tr>\n",
       "      <th>R</th>\n",
       "      <td>21</td>\n",
       "      <td>34</td>\n",
       "      <td>128</td>\n",
       "      <td>25</td>\n",
       "    </tr>\n",
       "    <tr>\n",
       "      <th>X</th>\n",
       "      <td>27</td>\n",
       "      <td>6</td>\n",
       "      <td>26</td>\n",
       "      <td>457</td>\n",
       "    </tr>\n",
       "  </tbody>\n",
       "</table>\n",
       "</div>"
      ],
      "text/plain": [
       "top_category_25     G    P    R    X\n",
       "top_category_75                     \n",
       "G                8327  574  186  216\n",
       "P                 189  328   47   19\n",
       "R                  21   34  128   25\n",
       "X                  27    6   26  457"
      ]
     },
     "execution_count": 13,
     "metadata": {},
     "output_type": "execute_result"
    }
   ],
   "source": [
    "# take turks that rated more than 1 url, or the top 75% of turks by ratings count\n",
    "top75 = rater_goodness[rater_goodness['total_ratings'] > 1.0]\n",
    "\n",
    "# repeat the steps from Q7 for these turks now\n",
    "predicted75 = labels_unknown.merge(top75, left_on='turk',\n",
    "                    right_on='turk').set_index('turk')\n",
    "\n",
    "predicted75['overall_odds'] = top75['odds']\n",
    "products75 = predicted75.groupby(['url', 'category'])['overall_odds'].prod()\n",
    "\n",
    "# repeat the steps from Q8 for these turks now\n",
    "by_cat75 = products75.unstack('category').fillna(0)\n",
    "\n",
    "by_cat75['top_odds'] = by_cat75.max(axis=1)\n",
    "by_cat75['top_category'] = by_cat75.idxmax(axis=1)\n",
    "\n",
    "# make the result_25 data frame\n",
    "result_25 = pd.concat([by_cat75['top_odds'], by_cat75['top_category']], axis=1)\n",
    "\n",
    "# merge these two data frames by url\n",
    "merge = result_75.merge(result_25,\n",
    "                  left_on = 'url',\n",
    "                  right_on = 'url',\n",
    "                  suffixes=['_75', '_25'])\n",
    "\n",
    "# create a crosstab to compare the number of url's predicted for the categories\n",
    "compare = pd.crosstab(merge['top_category_75'], merge['top_category_25'])\n",
    "compare"
   ]
  },
  {
   "cell_type": "markdown",
   "metadata": {},
   "source": [
    "The most errors are where the category was predicted to be \"G\" by the top 25% turks (the \"more reliable\" turks), but predicted to be \"P\" by the top 75% turks, which includes the \"less reliable\" turks."
   ]
  }
 ],
 "metadata": {
  "kernelspec": {
   "display_name": "Python 2",
   "language": "python",
   "name": "python2"
  },
  "language_info": {
   "codemirror_mode": {
    "name": "ipython",
    "version": 2
   },
   "file_extension": ".py",
   "mimetype": "text/x-python",
   "name": "python",
   "nbconvert_exporter": "python",
   "pygments_lexer": "ipython2",
   "version": "2.7.15"
  }
 },
 "nbformat": 4,
 "nbformat_minor": 2
}
