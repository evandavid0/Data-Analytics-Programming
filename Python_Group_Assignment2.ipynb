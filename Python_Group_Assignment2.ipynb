{
 "cells": [
  {
   "cell_type": "markdown",
   "metadata": {},
   "source": [
    "# Data Analytics Programming Assignment 2 - NYC Restaurants"
   ]
  },
  {
   "cell_type": "code",
   "execution_count": 1,
   "metadata": {},
   "outputs": [
    {
     "name": "stdout",
     "output_type": "stream",
     "text": [
      "Populating the interactive namespace from numpy and matplotlib\n"
     ]
    }
   ],
   "source": [
    "from pandas import Series, DataFrame\n",
    "import pandas as pd\n",
    "%pylab inline"
   ]
  },
  {
   "cell_type": "markdown",
   "metadata": {},
   "source": [
    "<b>[Q1] Create a unique name for each restaurant.</b> Print the first 10 values of the RESTAURANT column of your DataFrame."
   ]
  },
  {
   "cell_type": "code",
   "execution_count": 2,
   "metadata": {},
   "outputs": [
    {
     "name": "stdout",
     "output_type": "stream",
     "text": [
      "0                    WENDY'S 469 FLATBUSH AVENUE 11225\n",
      "1                    WENDY'S 469 FLATBUSH AVENUE 11225\n",
      "2                    WENDY'S 469 FLATBUSH AVENUE 11225\n",
      "3                    WENDY'S 469 FLATBUSH AVENUE 11225\n",
      "4                    WENDY'S 469 FLATBUSH AVENUE 11225\n",
      "5               TOV KOSHER KITCHEN 97-22 63 ROAD 11374\n",
      "6               TOV KOSHER KITCHEN 97-22 63 ROAD 11374\n",
      "7               TOV KOSHER KITCHEN 97-22 63 ROAD 11374\n",
      "8               TOV KOSHER KITCHEN 97-22 63 ROAD 11374\n",
      "9    BRUNOS ON THE BOULEVARD 8825 ASTORIA BOULEVARD...\n",
      "Name: RESTAURANT, dtype: object\n"
     ]
    }
   ],
   "source": [
    "# read in the csv file as df\n",
    "df = pd.read_csv('NYC_Restaurants.csv', dtype=unicode)\n",
    "\n",
    "# make the new column\n",
    "df['RESTAURANT'] = df['DBA'] + ' ' + df['BUILDING'] + ' ' + df['STREET'] + ' ' + df['ZIPCODE'] \n",
    "\n",
    "# print the first 10 restaurants\n",
    "print df['RESTAURANT'][:10] "
   ]
  },
  {
   "cell_type": "markdown",
   "metadata": {},
   "source": [
    "<b>[Q2] How many restaurants are included in the data?</b>"
   ]
  },
  {
   "cell_type": "code",
   "execution_count": 3,
   "metadata": {},
   "outputs": [
    {
     "data": {
      "text/plain": [
       "10114"
      ]
     },
     "execution_count": 3,
     "metadata": {},
     "output_type": "execute_result"
    }
   ],
   "source": [
    "# get rid of duplicate violations\n",
    "unique_restaurants = df.drop_duplicates(subset='RESTAURANT')\n",
    "\n",
    "# get the number of unique restaurants\n",
    "len(unique_restaurants)"
   ]
  },
  {
   "cell_type": "markdown",
   "metadata": {},
   "source": [
    "So there are 10,114 restaurants in the data."
   ]
  },
  {
   "cell_type": "markdown",
   "metadata": {},
   "source": [
    "<b>[Q3] How many chains are there?</b>"
   ]
  },
  {
   "cell_type": "code",
   "execution_count": 4,
   "metadata": {},
   "outputs": [
    {
     "data": {
      "text/plain": [
       "368"
      ]
     },
     "execution_count": 4,
     "metadata": {},
     "output_type": "execute_result"
    }
   ],
   "source": [
    "# create a mask that will show the restaurants that appear more than once\n",
    "if_chain = unique_restaurants.duplicated(subset='DBA', keep=False)\n",
    "\n",
    "# apply the mask to the data frame\n",
    "chains = unique_restaurants[if_chain]\n",
    "\n",
    "# this will get a series with the number of restaurants for each chain\n",
    "chains_count = chains['DBA'].value_counts()\n",
    "\n",
    "# get the number of chains\n",
    "len(chains_count)"
   ]
  },
  {
   "cell_type": "markdown",
   "metadata": {},
   "source": [
    "There are 368 chain restaurants."
   ]
  },
  {
   "cell_type": "markdown",
   "metadata": {},
   "source": [
    "<b>[Q4] Plot a bar graph of the top 20 most popular chains.</b>"
   ]
  },
  {
   "cell_type": "code",
   "execution_count": 5,
   "metadata": {},
   "outputs": [
    {
     "data": {
      "text/plain": [
       "<matplotlib.axes._subplots.AxesSubplot at 0xa6b4908>"
      ]
     },
     "execution_count": 5,
     "metadata": {},
     "output_type": "execute_result"
    },
    {
     "data": {
      "image/png": "[encoded data removed]",
      "text/plain": [
       "<Figure size 432x288 with 1 Axes>"
      ]
     },
     "metadata": {},
     "output_type": "display_data"
    }
   ],
   "source": [
    "# use chains_count for this plot\n",
    "top_20_chains = chains_count[:20] # get the top 20\n",
    "top_20_chains.plot(kind='bar')"
   ]
  },
  {
   "cell_type": "markdown",
   "metadata": {},
   "source": [
    "<b>[Q5] What fraction of all restaurants are chains?</b>"
   ]
  },
  {
   "cell_type": "code",
   "execution_count": 6,
   "metadata": {},
   "outputs": [
    {
     "data": {
      "text/plain": [
       "0.16472216729286138"
      ]
     },
     "execution_count": 6,
     "metadata": {},
     "output_type": "execute_result"
    }
   ],
   "source": [
    "# get the total number of chain restaurants\n",
    "total_chains = sum(if_chain)\n",
    "\n",
    "# get the total number of restaurants\n",
    "total_rest = float(len(unique_restaurants))\n",
    "\n",
    "# get the fraction of all restaurants that are chains\n",
    "frac_chains = total_chains / total_rest\n",
    "frac_chains"
   ]
  },
  {
   "cell_type": "markdown",
   "metadata": {},
   "source": [
    "16.47% of all restaurants are chains."
   ]
  },
  {
   "cell_type": "markdown",
   "metadata": {},
   "source": [
    "<b>[Q6] Plot the number of non-chain restaurants in each\n",
    "boro.</b>"
   ]
  },
  {
   "cell_type": "code",
   "execution_count": 7,
   "metadata": {},
   "outputs": [
    {
     "name": "stderr",
     "output_type": "stream",
     "text": [
      "C:\\ProgramData\\Anaconda2\\lib\\site-packages\\pandas\\core\\indexing.py:189: SettingWithCopyWarning: \n",
      "A value is trying to be set on a copy of a slice from a DataFrame\n",
      "\n",
      "See the caveats in the documentation: http://pandas.pydata.org/pandas-docs/stable/indexing.html#indexing-view-versus-copy\n",
      "  self._setitem_with_indexer(indexer, value)\n",
      "C:\\ProgramData\\Anaconda2\\lib\\site-packages\\ipykernel_launcher.py:6: SettingWithCopyWarning: \n",
      "A value is trying to be set on a copy of a slice from a DataFrame\n",
      "\n",
      "See the caveats in the documentation: http://pandas.pydata.org/pandas-docs/stable/indexing.html#indexing-view-versus-copy\n",
      "  \n"
     ]
    },
    {
     "data": {
      "text/plain": [
       "<matplotlib.axes._subplots.AxesSubplot at 0xed2b3c8>"
      ]
     },
     "execution_count": 7,
     "metadata": {},
     "output_type": "execute_result"
    },
    {
     "data": {
      "image/png": "[encoded data removed]",
      "text/plain": [
       "<Figure size 432x288 with 1 Axes>"
      ]
     },
     "metadata": {},
     "output_type": "display_data"
    }
   ],
   "source": [
    "# get the non-chain restaurants\n",
    "not_chains = unique_restaurants.drop_duplicates(subset='DBA', keep=False)\n",
    "\n",
    "# apply a mask to get rid of missing values in BORO\n",
    "mask = (not_chains['BORO'] == 'Missing')\n",
    "not_chains.loc[mask, 'BORO'] = np.nan\n",
    "\n",
    "# plot the non-chain restaurants in each boro\n",
    "by_boro = not_chains['BORO'].value_counts()\n",
    "by_boro.plot(kind='bar')"
   ]
  },
  {
   "cell_type": "markdown",
   "metadata": {},
   "source": [
    "<b>[Q7] Plot the fraction of non-chain restaurants in each\n",
    "boro.</b>"
   ]
  },
  {
   "cell_type": "code",
   "execution_count": 8,
   "metadata": {},
   "outputs": [
    {
     "name": "stderr",
     "output_type": "stream",
     "text": [
      "C:\\ProgramData\\Anaconda2\\lib\\site-packages\\ipykernel_launcher.py:3: SettingWithCopyWarning: \n",
      "A value is trying to be set on a copy of a slice from a DataFrame\n",
      "\n",
      "See the caveats in the documentation: http://pandas.pydata.org/pandas-docs/stable/indexing.html#indexing-view-versus-copy\n",
      "  This is separate from the ipykernel package so we can avoid doing imports until\n"
     ]
    },
    {
     "data": {
      "text/plain": [
       "<matplotlib.axes._subplots.AxesSubplot at 0x9fdd8d0>"
      ]
     },
     "execution_count": 8,
     "metadata": {},
     "output_type": "execute_result"
    },
    {
     "data": {
      "image/png": "[encoded data removed]",
      "text/plain": [
       "<Figure size 432x288 with 1 Axes>"
      ]
     },
     "metadata": {},
     "output_type": "display_data"
    }
   ],
   "source": [
    "# apply a mask to get rid of missing values \n",
    "mask = (unique_restaurants['BORO'] == 'Missing')\n",
    "unique_restaurants.loc[mask, 'BORO'] = np.nan\n",
    "\n",
    "# get the total restaurants in each boro\n",
    "total_by_boro = unique_restaurants['BORO'].value_counts()\n",
    "\n",
    "# get the fractions of non-chain restaurants, and plot \n",
    "non_chain_frac = by_boro / total_by_boro\n",
    "non_chain_frac.sort_values(ascending=False).plot(kind='bar')"
   ]
  },
  {
   "cell_type": "markdown",
   "metadata": {},
   "source": [
    "The boro with the most independent restaurants is Manhattan, while the boro with the highest ratio of independent restaurants is Brooklyn, so these do not match up."
   ]
  },
  {
   "cell_type": "markdown",
   "metadata": {},
   "source": [
    "<b>[Q8] Plot the popularity of cuisines.</b>"
   ]
  },
  {
   "cell_type": "code",
   "execution_count": 9,
   "metadata": {},
   "outputs": [
    {
     "data": {
      "text/plain": [
       "<matplotlib.axes._subplots.AxesSubplot at 0xa35cf98>"
      ]
     },
     "execution_count": 9,
     "metadata": {},
     "output_type": "execute_result"
    },
    {
     "data": {
      "image/png": "[encoded data removed]",
      "text/plain": [
       "<Figure size 432x288 with 1 Axes>"
      ]
     },
     "metadata": {},
     "output_type": "display_data"
    }
   ],
   "source": [
    "# get the number of restaurants for each cuisine\n",
    "cuisines = unique_restaurants['CUISINE DESCRIPTION'].value_counts()\n",
    "\n",
    "# plot the top 20 most popular\n",
    "top_cuisines = cuisines[:20]\n",
    "top_cuisines.plot(kind='bar')"
   ]
  },
  {
   "cell_type": "markdown",
   "metadata": {},
   "source": [
    "<b>[Q9] Plot the cuisines among restaurants which never got\n",
    "cited for violations.</b> "
   ]
  },
  {
   "cell_type": "code",
   "execution_count": 10,
   "metadata": {},
   "outputs": [
    {
     "data": {
      "text/plain": [
       "<matplotlib.axes._subplots.AxesSubplot at 0xa35cf60>"
      ]
     },
     "execution_count": 10,
     "metadata": {},
     "output_type": "execute_result"
    },
    {
     "data": {
      "image/png": "[encoded data removed]",
      "text/plain": [
       "<Figure size 432x288 with 1 Axes>"
      ]
     },
     "metadata": {},
     "output_type": "display_data"
    }
   ],
   "source": [
    "# get the \"clean\" restaurants by cuisine, which have no violation codes associated\n",
    "mask = (unique_restaurants['VIOLATION CODE'].isna())\n",
    "clean = unique_restaurants.loc[mask, 'CUISINE DESCRIPTION'].value_counts()\n",
    "\n",
    "# plot the top 20 \"clean\" cuisines\n",
    "top_clean = clean[:20]\n",
    "top_clean.plot(kind='bar')"
   ]
  },
  {
   "cell_type": "markdown",
   "metadata": {},
   "source": [
    "<b>[Q10] What cuisines tend to be the “cleanest”?</b>"
   ]
  },
  {
   "cell_type": "code",
   "execution_count": 11,
   "metadata": {},
   "outputs": [
    {
     "data": {
      "text/plain": [
       "Vietnamese/Cambodian/Malaysia    0.093750\n",
       "Soul Food                        0.090909\n",
       "Other                            0.067961\n",
       "Irish                            0.057143\n",
       "Asian                            0.047945\n",
       "Soups & Sandwiches               0.047619\n",
       "Barbecue                         0.047619\n",
       "Continental                      0.047619\n",
       "Chinese                          0.042805\n",
       "Delicatessen                     0.039216\n",
       "Name: CUISINE DESCRIPTION, dtype: float64"
      ]
     },
     "execution_count": 11,
     "metadata": {},
     "output_type": "execute_result"
    }
   ],
   "source": [
    "# from the cuisines, select those with at least 20 restaurants representing\n",
    "mask = (cuisines >= 20)\n",
    "pop_cuisines = cuisines[mask]\n",
    "\n",
    "# get the ratio of clean restaurants\n",
    "clean_ratio = clean / pop_cuisines\n",
    "cleanest = clean_ratio.dropna().sort_values(ascending=False)\n",
    "\n",
    "# get the top 10 highest ratios\n",
    "top10_cleanest = cleanest[:10]\n",
    "top10_cleanest"
   ]
  },
  {
   "cell_type": "markdown",
   "metadata": {},
   "source": [
    "<b>[Q11] What are the most common violations in each borough?</b>"
   ]
  },
  {
   "cell_type": "code",
   "execution_count": 12,
   "metadata": {},
   "outputs": [
    {
     "data": {
      "text/plain": [
       "BORO\n",
       "BRONX            Non-food contact surface improperly constructe...\n",
       "BROOKLYN         Non-food contact surface improperly constructe...\n",
       "MANHATTAN        Non-food contact surface improperly constructe...\n",
       "QUEENS           Non-food contact surface improperly constructe...\n",
       "STATEN ISLAND    Non-food contact surface improperly constructe...\n",
       "dtype: object"
      ]
     },
     "execution_count": 12,
     "metadata": {},
     "output_type": "execute_result"
    }
   ],
   "source": [
    "# must do the mask again for the original data frame\n",
    "mask = (df['BORO'] == 'Missing')\n",
    "df.loc[mask, 'BORO'] = np.nan\n",
    "\n",
    "# make the crosstab of violations by boro\n",
    "viols_by_boro = pd.crosstab(df['VIOLATION DESCRIPTION'], df['BORO'])\n",
    "\n",
    "# get the most common violation for each boro\n",
    "viols_by_boro.idxmax()"
   ]
  },
  {
   "cell_type": "markdown",
   "metadata": {},
   "source": [
    "It's all the same violation"
   ]
  },
  {
   "cell_type": "markdown",
   "metadata": {},
   "source": [
    "<b>[Q12] What are the most common violations per borough,\n",
    "after normalizing for the relative abundance of each violation?</b>"
   ]
  },
  {
   "cell_type": "code",
   "execution_count": 13,
   "metadata": {},
   "outputs": [
    {
     "data": {
      "text/plain": [
       "BORO\n",
       "BRONX                                  Unprotected food re-served.\n",
       "BROOKLYN         Precooked potentially hazardous food from comm...\n",
       "MANHATTAN        Out-of package sale of tobacco products observed.\n",
       "QUEENS           Caloric content range (minimum to maximum) not...\n",
       "STATEN ISLAND    Eggs found dirty/cracked; liquid, frozen or po...\n",
       "dtype: object"
      ]
     },
     "execution_count": 13,
     "metadata": {},
     "output_type": "execute_result"
    }
   ],
   "source": [
    "# get the total frequency of each violation\n",
    "violationFrequency = df['VIOLATION DESCRIPTION'].value_counts()\n",
    "violationFrequency\n",
    "\n",
    "# function to normalize the violations\n",
    "def normalized(v):\n",
    "    \"\"\"This function takes a value and divides by the violationFrequency\"\"\"\n",
    "    return v / violationFrequency\n",
    "\n",
    "# apply the function for the whole data frame\n",
    "normalized_viols = viols_by_boro.apply(normalized)\n",
    "\n",
    "# get the most common normalized violations for each boro\n",
    "normalized_viols.idxmax()"
   ]
  },
  {
   "cell_type": "markdown",
   "metadata": {},
   "source": [
    "<b>[Q13] How many phone area codes correspond to a single\n",
    "zipcode?</b>"
   ]
  },
  {
   "cell_type": "code",
   "execution_count": 14,
   "metadata": {},
   "outputs": [
    {
     "data": {
      "text/plain": [
       "34"
      ]
     },
     "execution_count": 14,
     "metadata": {},
     "output_type": "execute_result"
    }
   ],
   "source": [
    "def area_code(p):\n",
    "    \"\"\"This function extracts the area code given a phone number\"\"\"\n",
    "    return p[:3]\n",
    "\n",
    "# new data frame with unique phone numbers and their zipcodes\n",
    "zip_df = df[['ZIPCODE', 'PHONE']].drop_duplicates(subset=['PHONE'])\n",
    "\n",
    "# create a new column with all the area codes\n",
    "zip_df['AREA'] = zip_df['PHONE'].map(area_code)\n",
    "\n",
    "# group by to get unique pairs of zip and area code\n",
    "new_df = zip_df.groupby(['ZIPCODE','AREA']).size().reset_index().rename(columns={0:'count'})\n",
    "\n",
    "# get the number of area codes that only correspond to one zipcode\n",
    "sum(new_df['count'].value_counts() == 1)"
   ]
  },
  {
   "cell_type": "markdown",
   "metadata": {},
   "source": [
    "There are 34 area codes that only correspond to one zipcode"
   ]
  },
  {
   "cell_type": "markdown",
   "metadata": {},
   "source": [
    "<b>[Q14] Find common misspellings of street names</b>"
   ]
  },
  {
   "cell_type": "code",
   "execution_count": 15,
   "metadata": {},
   "outputs": [
    {
     "name": "stdout",
     "output_type": "stream",
     "text": [
      "AVENUE\n",
      "STREET\n",
      "ROAD\n",
      "PLACE\n",
      "BLVD\n",
      "BLVD\n"
     ]
    }
   ],
   "source": [
    "def get_last(s):\n",
    "    \"\"\"Return the last word in a string\"\"\"\n",
    "    return s.split()[-1]\n",
    "\n",
    "# create the street type column\n",
    "df['STREET TYPE'] = df['STREET'].map(get_last)\n",
    "\n",
    "def all_but_last(s):\n",
    "    \"\"\"Return all but the last word in a string\"\"\"\n",
    "    return s.rsplit(' ', 1)[0]\n",
    "\n",
    "# create the street base column\n",
    "df['STREET BASE'] = df['STREET'].map(all_but_last)\n",
    "\n",
    "# create the street base & zip column\n",
    "df['STREET BASE & ZIP'] = df['STREET BASE'] + ' ' + df['ZIPCODE']\n",
    "\n",
    "# make a new data frame with just these three columns\n",
    "new_df = df[['STREET TYPE', 'STREET BASE', 'STREET BASE & ZIP']].copy() \\\n",
    "                                                                     .drop_duplicates() \\\n",
    "                                                                     .dropna(subset=['STREET BASE'])\n",
    "\n",
    "# merge the data frame on itself based on street base & zip\n",
    "merged = new_df.merge(new_df, left_on='STREET BASE & ZIP', right_on='STREET BASE & ZIP')\n",
    "\n",
    "# find the rows where the street types are different \n",
    "mask = (merged['STREET TYPE_x'] != merged['STREET TYPE_y'])\n",
    "different = merged[mask]\n",
    "\n",
    "# make the crosstabulation table of the distinct street types\n",
    "cross = pd.crosstab(different['STREET TYPE_x'], different['STREET TYPE_y'])\n",
    "\n",
    "# get the most common street types occurring for each spelling\n",
    "mostcommon_types = cross.idxmax()\n",
    "print mostcommon_types['AVE']\n",
    "print mostcommon_types['ST']\n",
    "print mostcommon_types['RD']\n",
    "print mostcommon_types['PL']\n",
    "print mostcommon_types['BOULEARD']\n",
    "print mostcommon_types['BOULEVARD']"
   ]
  },
  {
   "cell_type": "markdown",
   "metadata": {},
   "source": [
    "So the most common for AVE is AVENUE, ST is STREET, RD is ROAD, PL is PLACE, BOULEARD is BLVD, and BULEVARD is BLVD"
   ]
  }
 ],
 "metadata": {
  "kernelspec": {
   "display_name": "Python 2",
   "language": "python",
   "name": "python2"
  },
  "language_info": {
   "codemirror_mode": {
    "name": "ipython",
    "version": 2
   },
   "file_extension": ".py",
   "mimetype": "text/x-python",
   "name": "python",
   "nbconvert_exporter": "python",
   "pygments_lexer": "ipython2",
   "version": "2.7.15"
  }
 },
 "nbformat": 4,
 "nbformat_minor": 2
}
